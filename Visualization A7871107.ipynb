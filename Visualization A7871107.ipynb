{
 "cells": [
  {
   "cell_type": "code",
   "execution_count": 1,
   "metadata": {},
   "outputs": [],
   "source": [
    "import sys, operator, os, string, re, random, math\n",
    "import numpy as np\n",
    "from collections import defaultdict\n",
    "import matplotlib.pyplot as plt\n",
    "from matplotlib.collections import PolyCollection"
   ]
  },
  {
   "cell_type": "code",
   "execution_count": 2,
   "metadata": {},
   "outputs": [],
   "source": [
    "f = open(\"A7871107.txt\")"
   ]
  },
  {
   "cell_type": "code",
   "execution_count": 3,
   "metadata": {},
   "outputs": [],
   "source": [
    "line_num = 0\n",
    "speech_dict = {}\n",
    "tokens = []\n",
    "text = []"
   ]
  },
  {
   "cell_type": "code",
   "execution_count": 4,
   "metadata": {},
   "outputs": [],
   "source": [
    "for line in f:\n",
    "    line = re.sub(\"[\\[].*?[\\]]\", \"\", line)\n",
    "    line = line.replace(\".\",\"\")\n",
    "    line = line.replace(\"!\",\"\")\n",
    "    line = line.replace(\"?\",\"\")\n",
    "    line = line.replace(\"xxx\",\"\")\n",
    "    line = line.replace(\"yyy\",\"\")\n",
    "    line = line.replace(\"zzz\",\"\")\n",
    "    line = line.replace(\"(g)\",\"g\")\n",
    "    line = line.replace(\"<\", \"\")\n",
    "    line = line.replace(\">\", \"\")\n",
    "    line = line.replace(\"-\", \" \")\n",
    "    line = line.replace(\"(\", \"\")\n",
    "    line = line.replace(\")\", \"\")\n",
    "    line = line.replace(\"+\", \"\")\n",
    "    line = line.replace(\"/\", \"\")\n",
    "    line = line.replace('\"', \"\")\n",
    "    line = line.replace(\",\", \"\")\n",
    "    line = line.replace(\"VCM0\", \"VCM\")\n",
    "    line = line.replace(\"0 \", \"\")\n",
    "    \n",
    "    speech_line = line.strip().strip('\\n').strip()\n",
    "    token_list = speech_line.split()\n",
    "\n",
    "    for word in token_list:\n",
    "        if word[0]==\"&\" or word[0]==\"VCM\" or word[0]==\"VCM0\":\n",
    "            token_list.remove(word)\n",
    "    if token_list[0][0] != \"@\":\n",
    "        text.append(token_list)"
   ]
  },
  {
   "cell_type": "code",
   "execution_count": 5,
   "metadata": {},
   "outputs": [],
   "source": [
    "f.close()"
   ]
  },
  {
   "cell_type": "code",
   "execution_count": 6,
   "metadata": {},
   "outputs": [],
   "source": [
    "time_dict_fa1 = dict()\n",
    "time_dict_fc1 = dict()\n",
    "time_dict_chi = dict()\n",
    "time_dict_ma1 = dict()\n",
    "for i in range(len(text)):\n",
    "    if text[i][0][0] == \"*\":\n",
    "        time = text[i][-1].split(\"_\")\n",
    "        start = int(time[0][1:])\n",
    "        end = int(time[1][:-1])\n",
    "        duration = end - start\n",
    "        word_count = len(text[i][1:-1])\n",
    "        if text[i][0] == \"*FA1:\":\n",
    "            time_dict_fa1[''.join(text[i][1:-1])] = [word_count, start, end, duration]\n",
    "        elif text[i][0] == \"*FC1:\":\n",
    "            time_dict_fc1[''.join(text[i][1:-1])] = [word_count, start, end, duration]\n",
    "        elif text[i][0] == \"*MA1:\":\n",
    "            time_dict_ma1[''.join(text[i][1:-1])] = [word_count, start, end, duration]\n",
    "        elif text[i][0] == \"*CHI:\":\n",
    "            time_dict_chi[''.join(text[i][1:-1])] = [word_count, start, end, duration]\n"
   ]
  },
  {
   "cell_type": "code",
   "execution_count": 7,
   "metadata": {},
   "outputs": [
    {
     "name": "stdout",
     "output_type": "stream",
     "text": [
      "[('*FA1:', 2, 25580, 27740, 2160), ('*FA1:', 1, 34020, 36130, 2110), ('*FA1:', 1, 37415, 37845, 430), ('*FA1:', 1, 38920, 39200, 280), ('*FA1:', 3, 43560, 44440, 880), ('*FA1:', 1, 46500, 47210, 710), ('*FA1:', 3, 50343, 51923, 1580), ('*CHI:', 0, 56915, 57445, 530), ('*FA1:', 1, 57640, 58280, 640), ('*CHI:', 0, 58858, 59266, 408), ('*FA1:', 1, 59380, 60020, 640)]\n"
     ]
    }
   ],
   "source": [
    "time_list = []\n",
    "for i in range(len(text)):\n",
    "    if text[i][0][0] == \"*\":\n",
    "        time = text[i][-1].split(\"_\")\n",
    "        start = int(time[0][1:])\n",
    "        end = int(time[1][:-1])\n",
    "        duration = end - start\n",
    "        word_count = len(text[i][1:-1])\n",
    "        time_list.append((text[i][0], word_count, start, end, duration))\n",
    "print(time_list[0:11])"
   ]
  },
  {
   "cell_type": "code",
   "execution_count": null,
   "metadata": {},
   "outputs": [],
   "source": []
  },
  {
   "cell_type": "code",
   "execution_count": null,
   "metadata": {},
   "outputs": [],
   "source": []
  },
  {
   "cell_type": "code",
   "execution_count": 12,
   "metadata": {},
   "outputs": [],
   "source": [
    "participants = {\"FA1\" : 1, \"FC1\" : 2, \"MA1\" : 3, \"CHI\" : 4}\n",
    "colormapping = {\"FA1\" : \"C0\", \"FC1\" : \"C1\", \"MA1\" : \"C2\", \"CHI\" : \"C3\"}"
   ]
  },
  {
   "cell_type": "code",
   "execution_count": 13,
   "metadata": {},
   "outputs": [],
   "source": [
    "verts = []\n",
    "colors = []\n",
    "for t in time_list:\n",
    "    v = [(t[2], participants[t[0][1:-1]]-.4),\n",
    "        (t[2], participants[t[0][1:-1]]+.4),\n",
    "        (t[3], participants[t[0][1:-1]]+.4),\n",
    "        (t[3], participants[t[0][1:-1]]-.4),\n",
    "        (t[2], participants[t[0][1:-1]]-.4),]\n",
    "    verts.append(v)\n",
    "    colors.append(colormapping[t[0][1:-1]])\n",
    "\n",
    "bars = PolyCollection(verts, facecolors = colors)"
   ]
  },
  {
   "cell_type": "code",
   "execution_count": 14,
   "metadata": {},
   "outputs": [
    {
     "data": {
      "image/png": "[encoded data removed]",
      "text/plain": [
       "<Figure size 432x288 with 1 Axes>"
      ]
     },
     "metadata": {
      "needs_background": "light"
     },
     "output_type": "display_data"
    }
   ],
   "source": [
    "fig, ax = plt.subplots()\n",
    "ax.add_collection(bars)\n",
    "ax.autoscale()\n",
    "ax.set_yticks([1,2,3,4])\n",
    "ax.set_yticklabels(list(participants.keys()))\n",
    "plt.savefig(\"vis_A7871107.png\")"
   ]
  },
  {
   "cell_type": "code",
   "execution_count": null,
   "metadata": {},
   "outputs": [],
   "source": []
  },
  {
   "cell_type": "code",
   "execution_count": null,
   "metadata": {},
   "outputs": [],
   "source": []
  },
  {
   "cell_type": "code",
   "execution_count": null,
   "metadata": {},
   "outputs": [],
   "source": []
  },
  {
   "cell_type": "code",
   "execution_count": null,
   "metadata": {},
   "outputs": [],
   "source": []
  },
  {
   "cell_type": "code",
   "execution_count": null,
   "metadata": {},
   "outputs": [],
   "source": []
  },
  {
   "cell_type": "code",
   "execution_count": null,
   "metadata": {},
   "outputs": [],
   "source": []
  },
  {
   "cell_type": "code",
   "execution_count": null,
   "metadata": {},
   "outputs": [],
   "source": []
  }
 ],
 "metadata": {
  "kernelspec": {
   "display_name": "Python 3",
   "language": "python",
   "name": "python3"
  },
  "language_info": {
   "codemirror_mode": {
    "name": "ipython",
    "version": 3
   },
   "file_extension": ".py",
   "mimetype": "text/x-python",
   "name": "python",
   "nbconvert_exporter": "python",
   "pygments_lexer": "ipython3",
   "version": "3.7.6"
  }
 },
 "nbformat": 4,
 "nbformat_minor": 4
}

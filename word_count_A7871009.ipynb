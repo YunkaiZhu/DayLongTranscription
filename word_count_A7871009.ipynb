{
 "cells": [
  {
   "cell_type": "code",
   "execution_count": 1,
   "metadata": {},
   "outputs": [],
   "source": [
    "import sys, operator, os, string, re, random, math\n",
    "import numpy as np\n",
    "from collections import defaultdict\n",
    "import matplotlib.pyplot as plt\n",
    "import pandas as pd"
   ]
  },
  {
   "cell_type": "code",
   "execution_count": 2,
   "metadata": {},
   "outputs": [],
   "source": [
    "f = open(\"A7871009.txt\",\"r\", encoding='utf-8')"
   ]
  },
  {
   "cell_type": "code",
   "execution_count": 3,
   "metadata": {},
   "outputs": [],
   "source": [
    "line_num = 0\n",
    "speech_dict = {}\n",
    "tokens = []\n",
    "text_matrix = []"
   ]
  },
  {
   "cell_type": "markdown",
   "metadata": {},
   "source": [
    "- Clean up text"
   ]
  },
  {
   "cell_type": "code",
   "execution_count": 4,
   "metadata": {},
   "outputs": [],
   "source": [
    "for line in f:\n",
    "    line = re.sub(\"[\\[].*?[\\]]\", \"\", line)\n",
    "    line = line.replace(\".\",\"\")\n",
    "    line = line.replace(\"!\",\"\")\n",
    "    line = line.replace(\"?\",\"\")\n",
    "    line = line.replace(\"xxx\",\"\")\n",
    "    line = line.replace(\"yyy\",\"\")\n",
    "    line = line.replace(\"zzz\",\"\")\n",
    "    line = line.replace(\"(g)\",\"g\")\n",
    "    line = line.replace(\"<\", \"\")\n",
    "    line = line.replace(\">\", \"\")\n",
    "    line = line.replace(\"-\", \" \")\n",
    "    line = line.replace(\"(\", \"\")\n",
    "    line = line.replace(\")\", \"\")\n",
    "    line = line.replace(\"+\", \"\")\n",
    "    line = line.replace(\"/\", \"\")\n",
    "    line = line.replace('\"', \"\")\n",
    "    line = line.replace(\",\", \"\")\n",
    "    line = line.replace(\"VCM0\", \"VCM\")\n",
    "    line = line.replace(\"0 \", \"\")\n",
    "    \n",
    "    speech_line = line.strip().strip('\\n').strip()\n",
    "    token_list = speech_line.split()\n",
    "\n",
    "    for word in token_list:\n",
    "        if word[0]==\"&\" or word[0]==\"VCM\" or word[0]==\"VCM0\":\n",
    "            token_list.remove(word)\n",
    "    if token_list[0][0] != \"@\":\n",
    "        text_matrix.append(token_list)"
   ]
  },
  {
   "cell_type": "code",
   "execution_count": 5,
   "metadata": {},
   "outputs": [],
   "source": [
    "f.close()"
   ]
  },
  {
   "cell_type": "markdown",
   "metadata": {},
   "source": [
    "- Get total number of sentences in each category"
   ]
  },
  {
   "cell_type": "code",
   "execution_count": 6,
   "metadata": {},
   "outputs": [
    {
     "name": "stdout",
     "output_type": "stream",
     "text": [
      "{'T': 1699, 'A': 3325, 'C': 2733}\n"
     ]
    }
   ],
   "source": [
    "xds = [\"T\",\"A\",\"C\"]\n",
    "sentence_dict = {\"T\":0, \"A\":0, \"C\":0}\n",
    "for i in range(len(text_matrix)):\n",
    "    for x in xds:\n",
    "        if len(text_matrix[i]) >= 2 and text_matrix[i][0][0] == \"%\" and text_matrix[i][1] == x:\n",
    "            sentence_dict[x] += 1\n",
    "print(sentence_dict)"
   ]
  },
  {
   "cell_type": "markdown",
   "metadata": {},
   "source": [
    "- Get total word count for T,A and C"
   ]
  },
  {
   "cell_type": "code",
   "execution_count": 7,
   "metadata": {},
   "outputs": [
    {
     "name": "stdout",
     "output_type": "stream",
     "text": [
      "{'FA1': 6877, 'EE1': 0, 'FAE': 43, 'FC1': 369, 'CHI': 0}\n"
     ]
    }
   ],
   "source": [
    "t_dict = {\"FA1\" : 0, \"EE1\" : 0, \"FAE\" : 0, \"FC1\" : 0, \"CHI\": 0}\n",
    "participants = [\"FA1\", \"EE1\", \"FAE\", \"FC1\", \"CHI\"]\n",
    "for i in range(len(text_matrix)):\n",
    "    if len(text_matrix[i]) >= 2 and text_matrix[i][0][0] == \"%\" and text_matrix[i][1] == \"T\":\n",
    "        for p in participants:\n",
    "            if text_matrix[i-1][0] == \"*\" + p + \":\":\n",
    "                t_dict[p] += len(text_matrix[i-1]) - 2\n",
    "print(t_dict)"
   ]
  },
  {
   "cell_type": "code",
   "execution_count": 8,
   "metadata": {},
   "outputs": [
    {
     "name": "stdout",
     "output_type": "stream",
     "text": [
      "{'FA1': 1052, 'EE1': 0, 'FAE': 393, 'FC1': 4537, 'CHI': 32}\n"
     ]
    }
   ],
   "source": [
    "a_dict = {\"FA1\" : 0, \"EE1\" : 0, \"FAE\" : 0, \"FC1\" : 0, \"CHI\": 0}\n",
    "for i in range(len(text_matrix)):\n",
    "    if len(text_matrix[i]) >= 2 and text_matrix[i][0][0] == \"%\" and text_matrix[i][1] == \"A\":\n",
    "        for p in participants:\n",
    "            if text_matrix[i-1][0] == \"*\" + p + \":\":\n",
    "                a_dict[p] += len(text_matrix[i-1]) - 2\n",
    "print(a_dict)"
   ]
  },
  {
   "cell_type": "code",
   "execution_count": 9,
   "metadata": {},
   "outputs": [
    {
     "name": "stdout",
     "output_type": "stream",
     "text": [
      "{'FA1': 12190, 'EE1': 0, 'FAE': 120, 'FC1': 132, 'CHI': 3}\n"
     ]
    }
   ],
   "source": [
    "c_dict = {\"FA1\" : 0, \"EE1\" : 0, \"FAE\" : 0, \"FC1\" : 0, \"CHI\": 0}\n",
    "for i in range(len(text_matrix)):\n",
    "    if len(text_matrix[i]) >= 2 and text_matrix[i][0][0] == \"%\" and text_matrix[i][1] == \"C\":\n",
    "        for p in participants:\n",
    "            if text_matrix[i-1][0] == \"*\" + p + \":\":\n",
    "                c_dict[p] += len(text_matrix[i-1]) - 2\n",
    "print(c_dict)"
   ]
  },
  {
   "cell_type": "code",
   "execution_count": 10,
   "metadata": {},
   "outputs": [
    {
     "name": "stdout",
     "output_type": "stream",
     "text": [
      "{'FA1': 20119, 'EE1': 0, 'FAE': 556, 'FC1': 5038, 'CHI': 35}\n"
     ]
    }
   ],
   "source": [
    "total_dict = {\"FA1\" : 0, \"EE1\" : 0, \"FAE\" : 0, \"FC1\" : 0, \"CHI\": 0}\n",
    "for i in range(len(text_matrix)):\n",
    "    for x in xds:\n",
    "        if len(text_matrix[i]) >= 2 and text_matrix[i][0][0] == \"%\" and text_matrix[i][1] == x:\n",
    "            for p in participants:\n",
    "                if text_matrix[i-1][0] == \"*\" + p + \":\":\n",
    "                    total_dict[p] += len(text_matrix[i-1]) - 2\n",
    "print(total_dict)"
   ]
  },
  {
   "cell_type": "code",
   "execution_count": null,
   "metadata": {},
   "outputs": [],
   "source": []
  },
  {
   "cell_type": "code",
   "execution_count": null,
   "metadata": {},
   "outputs": [],
   "source": []
  },
  {
   "cell_type": "code",
   "execution_count": 11,
   "metadata": {},
   "outputs": [
    {
     "data": {
      "image/png": "[encoded data removed]",
      "text/plain": [
       "<Figure size 432x288 with 1 Axes>"
      ]
     },
     "metadata": {},
     "output_type": "display_data"
    },
    {
     "data": {
      "image/png": "[encoded data removed]",
      "text/plain": [
       "<Figure size 432x288 with 1 Axes>"
      ]
     },
     "metadata": {},
     "output_type": "display_data"
    },
    {
     "data": {
      "image/png": "[encoded data removed]",
      "text/plain": [
       "<Figure size 432x288 with 1 Axes>"
      ]
     },
     "metadata": {},
     "output_type": "display_data"
    },
    {
     "data": {
      "image/png": "[encoded data removed]",
      "text/plain": [
       "<Figure size 432x288 with 1 Axes>"
      ]
     },
     "metadata": {},
     "output_type": "display_data"
    },
    {
     "data": {
      "image/png": "[encoded data removed]",
      "text/plain": [
       "<Figure size 432x288 with 1 Axes>"
      ]
     },
     "metadata": {},
     "output_type": "display_data"
    }
   ],
   "source": [
    "val_fa1 = [t_dict[\"FA1\"],a_dict[\"FA1\"],c_dict[\"FA1\"]]\n",
    "val_chi = [t_dict[\"CHI\"],a_dict[\"CHI\"],c_dict[\"CHI\"]]\n",
    "val_fc1 = [t_dict[\"FC1\"],a_dict[\"FC1\"],c_dict[\"FC1\"]]\n",
    "val_ee1 = [t_dict[\"EE1\"],a_dict[\"EE1\"],c_dict[\"EE1\"]]\n",
    "val_fae = [t_dict[\"FAE\"],a_dict[\"FAE\"],c_dict[\"FAE\"]]\n",
    "fig_fa1, ax_fa1 = plt.subplots()\n",
    "ax_fa1.pie(val_fa1, labels=xds, autopct='%1.1f%%',\n",
    "        shadow=False, startangle=90)\n",
    "ax_fa1.axis('equal')\n",
    "\n",
    "fig_chi, ax_chi = plt.subplots()\n",
    "ax_chi.pie(val_chi, labels=xds, autopct='%1.1f%%',\n",
    "        shadow=False, startangle=90)\n",
    "ax_chi.axis('equal')\n",
    "\n",
    "fig_fc1, ax_fc1 = plt.subplots()\n",
    "ax_fc1.pie(val_fc1, labels=xds, autopct='%1.1f%%',\n",
    "        shadow=False, startangle=90)\n",
    "ax_fc1.axis('equal')\n",
    "\n",
    "fig_ma1, ax_ma1 = plt.subplots()\n",
    "ax_ma1.pie(val_ee1, labels=xds, autopct='%1.1f%%',\n",
    "        shadow=False, startangle=90)\n",
    "ax_ma1.axis('equal')\n",
    "\n",
    "fig_fae, ax_fae = plt.subplots()\n",
    "ax_fae.pie(val_fae, labels=xds, autopct='%1.1f%%',\n",
    "        shadow=False, startangle=90)\n",
    "ax_fae.axis('equal')\n",
    "plt.show()"
   ]
  },
  {
   "cell_type": "code",
   "execution_count": null,
   "metadata": {},
   "outputs": [],
   "source": []
  },
  {
   "cell_type": "markdown",
   "metadata": {},
   "source": [
    "- Get frequency for each word"
   ]
  },
  {
   "cell_type": "code",
   "execution_count": 12,
   "metadata": {},
   "outputs": [
    {
     "name": "stdout",
     "output_type": "stream",
     "text": [
      "[('want', 100), ('Madison', 105), ('I', 106), ('oh', 109), ('a', 114), ('yeah', 123), ('to', 158), ('the', 190), ('your', 201), ('you', 475)]\n"
     ]
    }
   ],
   "source": [
    "word_frequency_t = dict()\n",
    "for i in range(len(text_matrix)):\n",
    "    if len(text_matrix[i]) >= 2 and text_matrix[i][0][0] == \"%\" and text_matrix[i][1] == \"T\":\n",
    "        for word in text_matrix[i-1][1:-1]:\n",
    "            if word[0] != \"*\":\n",
    "                if word not in word_frequency_t:\n",
    "                    word_frequency_t[word] = 1\n",
    "                else:\n",
    "                    word_frequency_t[word] += 1\n",
    "sorted_t = sorted(word_frequency_t.items(), key=lambda kv: kv[1])\n",
    "print(sorted_t[-10:])"
   ]
  },
  {
   "cell_type": "code",
   "execution_count": 13,
   "metadata": {},
   "outputs": [
    {
     "name": "stdout",
     "output_type": "stream",
     "text": [
      "[('no', 76), ('and', 87), ('that', 92), (\"I'm\", 94), ('it', 104), ('a', 107), ('to', 119), ('the', 141), ('you', 165), ('I', 300)]\n"
     ]
    }
   ],
   "source": [
    "word_frequency_a = dict()\n",
    "for i in range(len(text_matrix)):\n",
    "    if len(text_matrix[i]) >= 2 and text_matrix[i][0][0] == \"%\" and text_matrix[i][1] == \"A\":\n",
    "        for word in text_matrix[i-1][1:-1]:\n",
    "            if word[0] != \"*\":\n",
    "                if word not in word_frequency_a:\n",
    "                    word_frequency_a[word] = 1\n",
    "                else:\n",
    "                    word_frequency_a[word] += 1\n",
    "sorted_a = sorted(word_frequency_a.items(), key=lambda kv: kv[1])\n",
    "print(sorted_a[-10:])"
   ]
  },
  {
   "cell_type": "code",
   "execution_count": 14,
   "metadata": {},
   "outputs": [
    {
     "name": "stdout",
     "output_type": "stream",
     "text": [
      "[('her', 150), ('that', 155), ('and', 163), ('your', 206), ('a', 214), ('it', 228), ('I', 286), ('to', 291), ('the', 299), ('you', 677)]\n"
     ]
    }
   ],
   "source": [
    "word_frequency_c = dict()\n",
    "for i in range(len(text_matrix)):\n",
    "    if len(text_matrix[i]) >= 2 and text_matrix[i][0][0] == \"%\" and text_matrix[i][1] == \"C\":\n",
    "        for word in text_matrix[i-1][1:-1]:\n",
    "            if word[0] != \"*\":\n",
    "                if word not in word_frequency_c:\n",
    "                    word_frequency_c[word] = 1\n",
    "                else:\n",
    "                    word_frequency_c[word] += 1\n",
    "sorted_c = sorted(word_frequency_c.items(), key=lambda kv: kv[1])\n",
    "print(sorted_c[-10:])"
   ]
  },
  {
   "cell_type": "markdown",
   "metadata": {},
   "source": [
    "- Plot dictionaries"
   ]
  },
  {
   "cell_type": "code",
   "execution_count": 15,
   "metadata": {},
   "outputs": [
    {
     "data": {
      "image/png": "[encoded data removed]",
      "text/plain": [
       "<Figure size 432x288 with 1 Axes>"
      ]
     },
     "metadata": {
      "needs_background": "light"
     },
     "output_type": "display_data"
    }
   ],
   "source": [
    "plt.bar(*zip(*sorted_t[-10:]), color = 'skyblue')\n",
    "plt.xlabel(\"words\")\n",
    "plt.ylabel(\"frequency\")\n",
    "plt.title(\"top 10 words in T\")\n",
    "plt.savefig(\"top_t_A7871009.png\")"
   ]
  },
  {
   "cell_type": "code",
   "execution_count": 16,
   "metadata": {},
   "outputs": [
    {
     "data": {
      "image/png": "[encoded data removed]",
      "text/plain": [
       "<Figure size 432x288 with 1 Axes>"
      ]
     },
     "metadata": {
      "needs_background": "light"
     },
     "output_type": "display_data"
    }
   ],
   "source": [
    "plt.bar(*zip(*sorted_a[-10:]), color = 'skyblue')\n",
    "plt.xlabel(\"words\")\n",
    "plt.ylabel(\"frequency\")\n",
    "plt.title(\"top 10 words in A\")\n",
    "plt.savefig(\"top_a_A7871009.png\")"
   ]
  },
  {
   "cell_type": "code",
   "execution_count": 17,
   "metadata": {},
   "outputs": [
    {
     "data": {
      "image/png": "[encoded data removed]",
      "text/plain": [
       "<Figure size 432x288 with 1 Axes>"
      ]
     },
     "metadata": {
      "needs_background": "light"
     },
     "output_type": "display_data"
    }
   ],
   "source": [
    "plt.bar(*zip(*sorted_c[-10:]), color = 'skyblue')\n",
    "plt.xlabel(\"words\")\n",
    "plt.ylabel(\"frequency\")\n",
    "plt.title(\"top 10 words in C\")\n",
    "plt.savefig(\"top_c_A7871009.png\")"
   ]
  },
  {
   "cell_type": "code",
   "execution_count": null,
   "metadata": {},
   "outputs": [],
   "source": []
  },
  {
   "cell_type": "code",
   "execution_count": null,
   "metadata": {},
   "outputs": [],
   "source": []
  },
  {
   "cell_type": "code",
   "execution_count": 18,
   "metadata": {},
   "outputs": [],
   "source": [
    "val_fa1 = {\"T\":t_dict[\"FA1\"],\"A\":a_dict[\"FA1\"],\"C\":c_dict[\"FA1\"]}\n",
    "val_chi = {\"T\":t_dict[\"CHI\"],\"A\":a_dict[\"CHI\"],\"C\":c_dict[\"CHI\"]}\n",
    "val_fc1 = {\"T\":t_dict[\"FC1\"],\"A\":a_dict[\"FC1\"],\"C\":c_dict[\"FC1\"]}\n",
    "# val_ee1 = {\"T\":t_dict[\"EE1\"],\"A\":a_dict[\"EE1\"],\"C\":c_dict[\"EE1\"]}\n",
    "val_fae = {\"T\":t_dict[\"FAE\"],\"A\":a_dict[\"FAE\"],\"C\":c_dict[\"FAE\"]}\n",
    "\n",
    "vis_dict = {\"FA1\":val_fa1, \"FC1\":val_fc1, \"CHI\":val_chi, \"FAE\":val_fae}"
   ]
  },
  {
   "cell_type": "code",
   "execution_count": 19,
   "metadata": {},
   "outputs": [
    {
     "data": {
      "text/html": [
       "<div>\n",
       "<style scoped>\n",
       "    .dataframe tbody tr th:only-of-type {\n",
       "        vertical-align: middle;\n",
       "    }\n",
       "\n",
       "    .dataframe tbody tr th {\n",
       "        vertical-align: top;\n",
       "    }\n",
       "\n",
       "    .dataframe thead th {\n",
       "        text-align: right;\n",
       "    }\n",
       "</style>\n",
       "<table border=\"1\" class=\"dataframe\">\n",
       "  <thead>\n",
       "    <tr style=\"text-align: right;\">\n",
       "      <th></th>\n",
       "      <th>FA1</th>\n",
       "      <th>FC1</th>\n",
       "      <th>CHI</th>\n",
       "      <th>FAE</th>\n",
       "    </tr>\n",
       "  </thead>\n",
       "  <tbody>\n",
       "    <tr>\n",
       "      <th>T</th>\n",
       "      <td>6877</td>\n",
       "      <td>369</td>\n",
       "      <td>0</td>\n",
       "      <td>43</td>\n",
       "    </tr>\n",
       "    <tr>\n",
       "      <th>A</th>\n",
       "      <td>1052</td>\n",
       "      <td>4537</td>\n",
       "      <td>32</td>\n",
       "      <td>393</td>\n",
       "    </tr>\n",
       "    <tr>\n",
       "      <th>C</th>\n",
       "      <td>12190</td>\n",
       "      <td>132</td>\n",
       "      <td>3</td>\n",
       "      <td>120</td>\n",
       "    </tr>\n",
       "  </tbody>\n",
       "</table>\n",
       "</div>"
      ],
      "text/plain": [
       "     FA1   FC1  CHI  FAE\n",
       "T   6877   369    0   43\n",
       "A   1052  4537   32  393\n",
       "C  12190   132    3  120"
      ]
     },
     "execution_count": 19,
     "metadata": {},
     "output_type": "execute_result"
    }
   ],
   "source": [
    "df = pd.DataFrame(data = vis_dict)\n",
    "df"
   ]
  },
  {
   "cell_type": "code",
   "execution_count": null,
   "metadata": {},
   "outputs": [],
   "source": []
  },
  {
   "cell_type": "code",
   "execution_count": 20,
   "metadata": {},
   "outputs": [
    {
     "data": {
      "text/plain": [
       "[['FA1', 'T', 6877],\n",
       " ['FA1', 'A', 1052],\n",
       " ['FA1', 'C', 12190],\n",
       " ['FC1', 'T', 369],\n",
       " ['FC1', 'A', 4537],\n",
       " ['FC1', 'C', 132],\n",
       " ['CHI', 'T', 0],\n",
       " ['CHI', 'A', 32],\n",
       " ['CHI', 'C', 3],\n",
       " ['FAE', 'T', 43],\n",
       " ['FAE', 'A', 393],\n",
       " ['FAE', 'C', 120]]"
      ]
     },
     "execution_count": 20,
     "metadata": {},
     "output_type": "execute_result"
    }
   ],
   "source": [
    "vis_list = []\n",
    "for key in vis_dict.keys():\n",
    "    for key2 in vis_dict[key].keys():\n",
    "        vis_list.append([key, key2, vis_dict[key][key2]])\n",
    "vis_list"
   ]
  },
  {
   "cell_type": "code",
   "execution_count": 21,
   "metadata": {},
   "outputs": [
    {
     "data": {
      "text/html": [
       "<div>\n",
       "<style scoped>\n",
       "    .dataframe tbody tr th:only-of-type {\n",
       "        vertical-align: middle;\n",
       "    }\n",
       "\n",
       "    .dataframe tbody tr th {\n",
       "        vertical-align: top;\n",
       "    }\n",
       "\n",
       "    .dataframe thead th {\n",
       "        text-align: right;\n",
       "    }\n",
       "</style>\n",
       "<table border=\"1\" class=\"dataframe\">\n",
       "  <thead>\n",
       "    <tr style=\"text-align: right;\">\n",
       "      <th></th>\n",
       "      <th>participant</th>\n",
       "      <th>target</th>\n",
       "      <th>word_count</th>\n",
       "    </tr>\n",
       "  </thead>\n",
       "  <tbody>\n",
       "    <tr>\n",
       "      <th>0</th>\n",
       "      <td>FA1</td>\n",
       "      <td>T</td>\n",
       "      <td>6877</td>\n",
       "    </tr>\n",
       "    <tr>\n",
       "      <th>1</th>\n",
       "      <td>FA1</td>\n",
       "      <td>A</td>\n",
       "      <td>1052</td>\n",
       "    </tr>\n",
       "    <tr>\n",
       "      <th>2</th>\n",
       "      <td>FA1</td>\n",
       "      <td>C</td>\n",
       "      <td>12190</td>\n",
       "    </tr>\n",
       "    <tr>\n",
       "      <th>3</th>\n",
       "      <td>FC1</td>\n",
       "      <td>T</td>\n",
       "      <td>369</td>\n",
       "    </tr>\n",
       "    <tr>\n",
       "      <th>4</th>\n",
       "      <td>FC1</td>\n",
       "      <td>A</td>\n",
       "      <td>4537</td>\n",
       "    </tr>\n",
       "    <tr>\n",
       "      <th>5</th>\n",
       "      <td>FC1</td>\n",
       "      <td>C</td>\n",
       "      <td>132</td>\n",
       "    </tr>\n",
       "    <tr>\n",
       "      <th>6</th>\n",
       "      <td>CHI</td>\n",
       "      <td>T</td>\n",
       "      <td>0</td>\n",
       "    </tr>\n",
       "    <tr>\n",
       "      <th>7</th>\n",
       "      <td>CHI</td>\n",
       "      <td>A</td>\n",
       "      <td>32</td>\n",
       "    </tr>\n",
       "    <tr>\n",
       "      <th>8</th>\n",
       "      <td>CHI</td>\n",
       "      <td>C</td>\n",
       "      <td>3</td>\n",
       "    </tr>\n",
       "    <tr>\n",
       "      <th>9</th>\n",
       "      <td>FAE</td>\n",
       "      <td>T</td>\n",
       "      <td>43</td>\n",
       "    </tr>\n",
       "    <tr>\n",
       "      <th>10</th>\n",
       "      <td>FAE</td>\n",
       "      <td>A</td>\n",
       "      <td>393</td>\n",
       "    </tr>\n",
       "    <tr>\n",
       "      <th>11</th>\n",
       "      <td>FAE</td>\n",
       "      <td>C</td>\n",
       "      <td>120</td>\n",
       "    </tr>\n",
       "  </tbody>\n",
       "</table>\n",
       "</div>"
      ],
      "text/plain": [
       "   participant target  word_count\n",
       "0          FA1      T        6877\n",
       "1          FA1      A        1052\n",
       "2          FA1      C       12190\n",
       "3          FC1      T         369\n",
       "4          FC1      A        4537\n",
       "5          FC1      C         132\n",
       "6          CHI      T           0\n",
       "7          CHI      A          32\n",
       "8          CHI      C           3\n",
       "9          FAE      T          43\n",
       "10         FAE      A         393\n",
       "11         FAE      C         120"
      ]
     },
     "execution_count": 21,
     "metadata": {},
     "output_type": "execute_result"
    }
   ],
   "source": [
    "df = pd.DataFrame(data = vis_list, columns = [\"participant\", \"target\", \"word_count\"])\n",
    "df"
   ]
  },
  {
   "cell_type": "code",
   "execution_count": 44,
   "metadata": {},
   "outputs": [],
   "source": [
    "df.to_csv(\"word_count_A7871009.csv\")"
   ]
  },
  {
   "cell_type": "code",
   "execution_count": 23,
   "metadata": {},
   "outputs": [],
   "source": [
    "# # Prepare data\n",
    "# x_var = 'participant'\n",
    "# groupby_var = 'target'\n",
    "# df_agg = df.loc[:, [x_var, groupby_var]].groupby(groupby_var)\n",
    "\n",
    "# vals = [list(df.iloc[::3, :]['word_count']), list(df.iloc[1::3, :]['word_count']), list(df.iloc[2::3, :]['word_count'])]\n",
    "# print(vals)\n",
    "# # Draw\n",
    "# plt.figure(figsize=(16,9), dpi= 80)\n",
    "# colors = [plt.cm.Spectral(i/float(len(vals)-1)) for i in range(len(vals))]\n",
    "# n, bins, patches = plt.hist(vals, 4, stacked=True, density=False, color=colors[:len(vals)])\n",
    "\n",
    "# # Decoration\n",
    "# plt.legend({group:col for group, col in zip(np.unique(df[groupby_var]).tolist(), colors[:len(vals)])})\n",
    "# plt.title(f\"Stacked Histogram of ${x_var}$ colored by ${groupby_var}$\", fontsize=22)\n",
    "# plt.xlabel(x_var)\n",
    "# plt.ylabel(\"Frequency\")\n",
    "# plt.ylim(0, 10)\n",
    "# plt.xticks(ticks=bins, labels=np.unique(df[x_var]).tolist(), rotation=90, horizontalalignment='left')\n",
    "# plt.show()"
   ]
  },
  {
   "cell_type": "code",
   "execution_count": 43,
   "metadata": {},
   "outputs": [
    {
     "data": {
      "image/png": "[encoded data removed]",
      "text/plain": [
       "<Figure size 432x288 with 1 Axes>"
      ]
     },
     "metadata": {
      "needs_background": "light"
     },
     "output_type": "display_data"
    }
   ],
   "source": [
    "vals = [list(df.iloc[::3, :]['word_count']), list(df.iloc[1::3, :]['word_count']), list(df.iloc[2::3, :]['word_count'])]\n",
    "bars = np.add(vals[0], vals[1]).tolist()\n",
    "p1 = plt.bar(list(df['participant'].unique()), vals[0],color = \"skyblue\")\n",
    "p2 = plt.bar(list(df['participant'].unique()), vals[1], bottom = vals[0], color = \"yellowgreen\")\n",
    "p3 = plt.bar(list(df['participant'].unique()), vals[2], bottom = bars, color = \"lightcoral\")\n",
    "\n",
    "\n",
    "\n",
    "plt.ylabel('Word counts')\n",
    "plt.title('Word counts by participants and target')\n",
    "plt.legend((p1[0], p2[0], p3[0]), ('T', 'A', 'C'))\n",
    "\n",
    "plt.savefig(\"word_count_A7871009.png\")"
   ]
  }
 ],
 "metadata": {
  "kernelspec": {
   "display_name": "Python 3",
   "language": "python",
   "name": "python3"
  },
  "language_info": {
   "codemirror_mode": {
    "name": "ipython",
    "version": 3
   },
   "file_extension": ".py",
   "mimetype": "text/x-python",
   "name": "python",
   "nbconvert_exporter": "python",
   "pygments_lexer": "ipython3",
   "version": "3.8.5"
  }
 },
 "nbformat": 4,
 "nbformat_minor": 4
}

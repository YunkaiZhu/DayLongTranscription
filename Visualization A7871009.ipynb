{
 "cells": [
  {
   "cell_type": "code",
   "execution_count": 1,
   "metadata": {},
   "outputs": [],
   "source": [
    "import sys, operator, os, string, re, random, math\n",
    "import numpy as np\n",
    "from collections import defaultdict\n",
    "import matplotlib.pyplot as plt\n",
    "from matplotlib.collections import PolyCollection"
   ]
  },
  {
   "cell_type": "code",
   "execution_count": 2,
   "metadata": {},
   "outputs": [],
   "source": [
    "f = open(\"A7871009.txt\", \"r\", encoding='utf-8')"
   ]
  },
  {
   "cell_type": "code",
   "execution_count": 3,
   "metadata": {},
   "outputs": [],
   "source": [
    "line_num = 0\n",
    "speech_dict = {}\n",
    "tokens = []\n",
    "text = []"
   ]
  },
  {
   "cell_type": "code",
   "execution_count": 4,
   "metadata": {},
   "outputs": [],
   "source": [
    "for line in f:\n",
    "    line = re.sub(\"[\\[].*?[\\]]\", \"\", line)\n",
    "    line = line.replace(\".\",\"\")\n",
    "    line = line.replace(\"!\",\"\")\n",
    "    line = line.replace(\"?\",\"\")\n",
    "    line = line.replace(\"xxx\",\"\")\n",
    "    line = line.replace(\"yyy\",\"\")\n",
    "    line = line.replace(\"zzz\",\"\")\n",
    "    line = line.replace(\"(g)\",\"g\")\n",
    "    line = line.replace(\"<\", \"\")\n",
    "    line = line.replace(\">\", \"\")\n",
    "    line = line.replace(\"-\", \" \")\n",
    "    line = line.replace(\"(\", \"\")\n",
    "    line = line.replace(\")\", \"\")\n",
    "    line = line.replace(\"+\", \"\")\n",
    "    line = line.replace(\"/\", \"\")\n",
    "    line = line.replace('\"', \"\")\n",
    "    line = line.replace(\",\", \"\")\n",
    "    line = line.replace(\"VCM0\", \"VCM\")\n",
    "    line = line.replace(\"0 \", \"\")\n",
    "    \n",
    "    speech_line = line.strip().strip('\\n').strip()\n",
    "    token_list = speech_line.split()\n",
    "\n",
    "    for word in token_list:\n",
    "        if word[0]==\"&\" or word[0]==\"VCM\" or word[0]==\"VCM0\":\n",
    "            token_list.remove(word)\n",
    "    if token_list[0][0] != \"@\":\n",
    "        text.append(token_list)"
   ]
  },
  {
   "cell_type": "code",
   "execution_count": 5,
   "metadata": {},
   "outputs": [],
   "source": [
    "f.close()"
   ]
  },
  {
   "cell_type": "code",
   "execution_count": 6,
   "metadata": {},
   "outputs": [],
   "source": [
    "# time_dict_fa1 = dict()\n",
    "# time_dict_fc1 = dict()\n",
    "# time_dict_chi = dict()\n",
    "# time_dict_ma1 = dict()\n",
    "# for i in range(len(text)):\n",
    "#     if text[i][0][0] == \"*\":\n",
    "#         time = text[i][-1].split(\"_\")\n",
    "#         start = int(time[0][1:])\n",
    "#         end = int(time[1][:-1])\n",
    "#         duration = end - start\n",
    "#         word_count = len(text[i][1:-1])\n",
    "#         if text[i][0] == \"*FA1:\":\n",
    "#             time_dict_fa1[''.join(text[i][1:-1])] = [word_count, start, end, duration]\n",
    "#         elif text[i][0] == \"*EE1:\":\n",
    "#             time_dict_ee1[''.join(text[i][1:-1])] = [word_count, start, end, duration]\n",
    "#         elif text[i][0] == \"*FC1:\":\n",
    "#             time_dict_fc1[''.join(text[i][1:-1])] = [word_count, start, end, duration]\n",
    "#         elif text[i][0] == \"*FAE:\":\n",
    "#             time_dict_ma1[''.join(text[i][1:-1])] = [word_count, start, end, duration]\n",
    "#         elif text[i][0] == \"*CHI:\":\n",
    "#             time_dict_chi[''.join(text[i][1:-1])] = [word_count, start, end, duration]\n"
   ]
  },
  {
   "cell_type": "code",
   "execution_count": 7,
   "metadata": {},
   "outputs": [
    {
     "name": "stdout",
     "output_type": "stream",
     "text": [
      "[('*FA1:', 2, 24039, 25719, 1680), ('*FA1:', 2, 27329, 29409, 2080), ('*CHI:', 0, 28829, 29329, 500), ('*FA1:', 1, 29764, 30304, 540), ('*FA1:', 1, 31629, 32179, 550), ('*CHI:', 0, 33276, 33746, 470), ('*FA1:', 1, 34171, 34791, 620), ('*FA1:', 2, 38406, 38806, 400), ('*FA1:', 6, 40806, 41656, 850), ('*FA1:', 7, 42511, 44151, 1640), ('*FA1:', 1, 45581, 46441, 860)]\n"
     ]
    }
   ],
   "source": [
    "time_list = []\n",
    "for i in range(len(text)):\n",
    "    if text[i][0][0] == \"*\":\n",
    "        time = text[i][-1].split(\"_\")\n",
    "        start = int(time[0][0:])\n",
    "        end = int(time[1][:-1])\n",
    "        duration = end - start\n",
    "        word_count = len(text[i][1:-1])\n",
    "        time_list.append((text[i][0], word_count, start, end, duration))\n",
    "print(time_list[0:11])"
   ]
  },
  {
   "cell_type": "code",
   "execution_count": 8,
   "metadata": {},
   "outputs": [],
   "source": [
    "participants = {\"FA1\" : 1, \"EE1\" : 2, \"FAE\" : 3, \"FC1\" : 4, \"CHI\": 5}\n",
    "colormapping = {\"FA1\" : \"lightcoral\", \"EE1\" : \"sandybrown\", \"FAE\" : \"yellowgreen\", \"FC1\" : \"tan\", \"CHI\" : \"skyblue\"}"
   ]
  },
  {
   "cell_type": "code",
   "execution_count": 9,
   "metadata": {},
   "outputs": [],
   "source": [
    "verts = []\n",
    "colors = []\n",
    "for t in time_list:\n",
    "    v = [(t[2], participants[t[0][1:-1]]-.4),\n",
    "        (t[2], participants[t[0][1:-1]]+.4),\n",
    "        (t[3], participants[t[0][1:-1]]+.4),\n",
    "        (t[3], participants[t[0][1:-1]]-.4),\n",
    "        (t[2], participants[t[0][1:-1]]-.4),]\n",
    "    verts.append(v)\n",
    "    colors.append(colormapping[t[0][1:-1]])\n",
    "\n",
    "bars = PolyCollection(verts, facecolors = colors)"
   ]
  },
  {
   "cell_type": "code",
   "execution_count": 10,
   "metadata": {},
   "outputs": [
    {
     "data": {
      "image/png": "[encoded data removed]",
      "text/plain": [
       "<Figure size 432x288 with 1 Axes>"
      ]
     },
     "metadata": {
      "needs_background": "light"
     },
     "output_type": "display_data"
    }
   ],
   "source": [
    "fig, ax = plt.subplots()\n",
    "ax.add_collection(bars)\n",
    "ax.autoscale()\n",
    "ax.set_yticks([1,2,3,4,5])\n",
    "ax.set_yticklabels(list(participants.keys()))\n",
    "plt.savefig(\"vis_A7871009.png\")"
   ]
  },
  {
   "cell_type": "code",
   "execution_count": null,
   "metadata": {},
   "outputs": [],
   "source": []
  },
  {
   "cell_type": "code",
   "execution_count": null,
   "metadata": {},
   "outputs": [],
   "source": []
  }
 ],
 "metadata": {
  "kernelspec": {
   "display_name": "Python 3",
   "language": "python",
   "name": "python3"
  },
  "language_info": {
   "codemirror_mode": {
    "name": "ipython",
    "version": 3
   },
   "file_extension": ".py",
   "mimetype": "text/x-python",
   "name": "python",
   "nbconvert_exporter": "python",
   "pygments_lexer": "ipython3",
   "version": "3.8.5"
  }
 },
 "nbformat": 4,
 "nbformat_minor": 4
}

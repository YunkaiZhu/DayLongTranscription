{
 "cells": [
  {
   "cell_type": "code",
   "execution_count": 1,
   "metadata": {},
   "outputs": [],
   "source": [
    "import sys, operator, os, string, re, random, math\n",
    "import numpy as np\n",
    "from collections import defaultdict\n",
    "import matplotlib.pyplot as plt\n",
    "import pandas as pd"
   ]
  },
  {
   "cell_type": "code",
   "execution_count": 2,
   "metadata": {},
   "outputs": [],
   "source": [
    "f = open(\"A7871107.txt\")"
   ]
  },
  {
   "cell_type": "code",
   "execution_count": 3,
   "metadata": {},
   "outputs": [],
   "source": [
    "line_num = 0\n",
    "speech_dict = {}\n",
    "tokens = []\n",
    "text_matrix = []"
   ]
  },
  {
   "cell_type": "markdown",
   "metadata": {},
   "source": [
    "- Clean up text"
   ]
  },
  {
   "cell_type": "code",
   "execution_count": 4,
   "metadata": {},
   "outputs": [],
   "source": [
    "for line in f:\n",
    "    line = re.sub(\"[\\[].*?[\\]]\", \"\", line)\n",
    "    line = line.replace(\".\",\"\")\n",
    "    line = line.replace(\"!\",\"\")\n",
    "    line = line.replace(\"?\",\"\")\n",
    "    line = line.replace(\"xxx\",\"\")\n",
    "    line = line.replace(\"yyy\",\"\")\n",
    "    line = line.replace(\"zzz\",\"\")\n",
    "    line = line.replace(\"(g)\",\"g\")\n",
    "    line = line.replace(\"<\", \"\")\n",
    "    line = line.replace(\">\", \"\")\n",
    "    line = line.replace(\"-\", \" \")\n",
    "    line = line.replace(\"(\", \"\")\n",
    "    line = line.replace(\")\", \"\")\n",
    "    line = line.replace(\"+\", \"\")\n",
    "    line = line.replace(\"/\", \"\")\n",
    "    line = line.replace('\"', \"\")\n",
    "    line = line.replace(\",\", \"\")\n",
    "    line = line.replace(\"VCM0\", \"VCM\")\n",
    "    line = line.replace(\"0 \", \"\")\n",
    "    \n",
    "    speech_line = line.strip().strip('\\n').strip()\n",
    "    token_list = speech_line.split()\n",
    "\n",
    "    for word in token_list:\n",
    "        if word[0]==\"&\" or word[0]==\"VCM\" or word[0]==\"VCM0\":\n",
    "            token_list.remove(word)\n",
    "    if token_list[0][0] != \"@\":\n",
    "        text_matrix.append(token_list)"
   ]
  },
  {
   "cell_type": "code",
   "execution_count": 5,
   "metadata": {},
   "outputs": [],
   "source": [
    "f.close()"
   ]
  },
  {
   "cell_type": "markdown",
   "metadata": {},
   "source": [
    "- Get total number of sentences in each category"
   ]
  },
  {
   "cell_type": "code",
   "execution_count": 6,
   "metadata": {},
   "outputs": [
    {
     "name": "stdout",
     "output_type": "stream",
     "text": [
      "{'T': 878, 'A': 2357, 'C': 1027}\n"
     ]
    }
   ],
   "source": [
    "xds = [\"T\",\"A\",\"C\"]\n",
    "sentence_dict = {\"T\":0, \"A\":0, \"C\":0}\n",
    "for i in range(len(text_matrix)):\n",
    "    for x in xds:\n",
    "        if len(text_matrix[i]) >= 2 and text_matrix[i][0][0] == \"%\" and text_matrix[i][1] == x:\n",
    "            sentence_dict[x] += 1\n",
    "print(sentence_dict)"
   ]
  },
  {
   "cell_type": "markdown",
   "metadata": {},
   "source": [
    "- Get total word count for T,A and C"
   ]
  },
  {
   "cell_type": "code",
   "execution_count": 7,
   "metadata": {},
   "outputs": [
    {
     "name": "stdout",
     "output_type": "stream",
     "text": [
      "{'FA1': 3090, 'CHI': 0, 'FC1': 95, 'MA1': 533}\n"
     ]
    }
   ],
   "source": [
    "t_dict = {\"FA1\":0, \"CHI\":0, \"FC1\":0, \"MA1\":0}\n",
    "participants = [\"FA1\",\"CHI\",\"FC1\",\"MA1\"]\n",
    "for i in range(len(text_matrix)):\n",
    "    if len(text_matrix[i]) >= 2 and text_matrix[i][0][0] == \"%\" and text_matrix[i][1] == \"T\":\n",
    "        for p in participants:\n",
    "            if text_matrix[i-1][0] == \"*\" + p + \":\":\n",
    "                t_dict[p] += len(text_matrix[i-1]) - 2\n",
    "print(t_dict)"
   ]
  },
  {
   "cell_type": "code",
   "execution_count": 8,
   "metadata": {},
   "outputs": [
    {
     "name": "stdout",
     "output_type": "stream",
     "text": [
      "{'FA1': 1987, 'CHI': 23, 'FC1': 2078, 'MA1': 596}\n"
     ]
    }
   ],
   "source": [
    "a_dict = {\"FA1\":0, \"CHI\":0, \"FC1\":0, \"MA1\":0}\n",
    "for i in range(len(text_matrix)):\n",
    "    if len(text_matrix[i]) >= 2 and text_matrix[i][0][0] == \"%\" and text_matrix[i][1] == \"A\":\n",
    "        for p in participants:\n",
    "            if text_matrix[i-1][0] == \"*\" + p + \":\":\n",
    "                a_dict[p] += len(text_matrix[i-1]) - 2\n",
    "print(a_dict)"
   ]
  },
  {
   "cell_type": "code",
   "execution_count": 9,
   "metadata": {},
   "outputs": [
    {
     "name": "stdout",
     "output_type": "stream",
     "text": [
      "{'FA1': 5044, 'CHI': 0, 'FC1': 19, 'MA1': 898}\n"
     ]
    }
   ],
   "source": [
    "c_dict = {\"FA1\":0, \"CHI\":0, \"FC1\":0, \"MA1\":0}\n",
    "for i in range(len(text_matrix)):\n",
    "    if len(text_matrix[i]) >= 2 and text_matrix[i][0][0] == \"%\" and text_matrix[i][1] == \"C\":\n",
    "        for p in participants:\n",
    "            if text_matrix[i-1][0] == \"*\" + p + \":\":\n",
    "                c_dict[p] += len(text_matrix[i-1]) - 2\n",
    "print(c_dict)"
   ]
  },
  {
   "cell_type": "code",
   "execution_count": 10,
   "metadata": {},
   "outputs": [
    {
     "name": "stdout",
     "output_type": "stream",
     "text": [
      "{'FA1': 10121, 'CHI': 23, 'FC1': 2192, 'MA1': 2027}\n"
     ]
    }
   ],
   "source": [
    "total_dict = {\"FA1\":0, \"CHI\":0, \"FC1\":0, \"MA1\":0}\n",
    "for i in range(len(text_matrix)):\n",
    "    for x in xds:\n",
    "        if len(text_matrix[i]) >= 2 and text_matrix[i][0][0] == \"%\" and text_matrix[i][1] == x:\n",
    "            for p in participants:\n",
    "                if text_matrix[i-1][0] == \"*\" + p + \":\":\n",
    "                    total_dict[p] += len(text_matrix[i-1]) - 2\n",
    "print(total_dict)"
   ]
  },
  {
   "cell_type": "code",
   "execution_count": null,
   "metadata": {},
   "outputs": [],
   "source": []
  },
  {
   "cell_type": "code",
   "execution_count": null,
   "metadata": {},
   "outputs": [],
   "source": []
  },
  {
   "cell_type": "code",
   "execution_count": 11,
   "metadata": {},
   "outputs": [
    {
     "data": {
      "image/png": "[encoded data removed]",
      "text/plain": [
       "<Figure size 432x288 with 1 Axes>"
      ]
     },
     "metadata": {},
     "output_type": "display_data"
    },
    {
     "data": {
      "image/png": "[encoded data removed]",
      "text/plain": [
       "<Figure size 432x288 with 1 Axes>"
      ]
     },
     "metadata": {},
     "output_type": "display_data"
    },
    {
     "data": {
      "image/png": "[encoded data removed]",
      "text/plain": [
       "<Figure size 432x288 with 1 Axes>"
      ]
     },
     "metadata": {},
     "output_type": "display_data"
    },
    {
     "data": {
      "image/png": "[encoded data removed]",
      "text/plain": [
       "<Figure size 432x288 with 1 Axes>"
      ]
     },
     "metadata": {},
     "output_type": "display_data"
    }
   ],
   "source": [
    "val_fa1 = [t_dict[\"FA1\"],a_dict[\"FA1\"],c_dict[\"FA1\"]]\n",
    "val_chi = [t_dict[\"CHI\"],a_dict[\"CHI\"],c_dict[\"CHI\"]]\n",
    "val_fc1 = [t_dict[\"FC1\"],a_dict[\"FC1\"],c_dict[\"FC1\"]]\n",
    "val_ma1 = [t_dict[\"MA1\"],a_dict[\"MA1\"],c_dict[\"MA1\"]]\n",
    "fig_fa1, ax_fa1 = plt.subplots()\n",
    "ax_fa1.pie(val_fa1, labels=xds, autopct='%1.1f%%',\n",
    "        shadow=False, startangle=90)\n",
    "ax_fa1.axis('equal')\n",
    "\n",
    "fig_chi, ax_chi = plt.subplots()\n",
    "ax_chi.pie(val_chi, labels=xds, autopct='%1.1f%%',\n",
    "        shadow=False, startangle=90)\n",
    "ax_chi.axis('equal')\n",
    "\n",
    "fig_fc1, ax_fc1 = plt.subplots()\n",
    "ax_fc1.pie(val_fc1, labels=xds, autopct='%1.1f%%',\n",
    "        shadow=False, startangle=90)\n",
    "ax_fc1.axis('equal')\n",
    "\n",
    "fig_ma1, ax_ma1 = plt.subplots()\n",
    "ax_ma1.pie(val_ma1, labels=xds, autopct='%1.1f%%',\n",
    "        shadow=False, startangle=90)\n",
    "ax_ma1.axis('equal')\n",
    "plt.show()"
   ]
  },
  {
   "cell_type": "code",
   "execution_count": null,
   "metadata": {},
   "outputs": [],
   "source": []
  },
  {
   "cell_type": "markdown",
   "metadata": {},
   "source": [
    "- Get frequency for each word"
   ]
  },
  {
   "cell_type": "code",
   "execution_count": 12,
   "metadata": {},
   "outputs": [
    {
     "name": "stdout",
     "output_type": "stream",
     "text": [
      "[('that', 54), ('to', 54), ('Madison', 57), ('is', 61), ('in', 61), ('I', 69), ('the', 80), ('yeah', 89), ('your', 124), ('you', 220)]\n"
     ]
    }
   ],
   "source": [
    "word_frequency_t = dict()\n",
    "for i in range(len(text_matrix)):\n",
    "    if len(text_matrix[i]) >= 2 and text_matrix[i][0][0] == \"%\" and text_matrix[i][1] == \"T\":\n",
    "        for word in text_matrix[i-1][1:-1]:\n",
    "            if word[0] != \"*\":\n",
    "                if word not in word_frequency_t:\n",
    "                    word_frequency_t[word] = 1\n",
    "                else:\n",
    "                    word_frequency_t[word] += 1\n",
    "sorted_t = sorted(word_frequency_t.items(), key=lambda kv: kv[1])\n",
    "print(sorted_t[-10:])"
   ]
  },
  {
   "cell_type": "code",
   "execution_count": 13,
   "metadata": {},
   "outputs": [
    {
     "name": "stdout",
     "output_type": "stream",
     "text": [
      "[('yeah', 60), ('and', 63), ('is', 68), ('a', 81), ('to', 81), ('that', 83), ('it', 108), ('you', 119), ('the', 156), ('I', 245)]\n"
     ]
    }
   ],
   "source": [
    "word_frequency_a = dict()\n",
    "for i in range(len(text_matrix)):\n",
    "    if len(text_matrix[i]) >= 2 and text_matrix[i][0][0] == \"%\" and text_matrix[i][1] == \"A\":\n",
    "        for word in text_matrix[i-1][1:-1]:\n",
    "            if word[0] != \"*\":\n",
    "                if word not in word_frequency_a:\n",
    "                    word_frequency_a[word] = 1\n",
    "                else:\n",
    "                    word_frequency_a[word] += 1\n",
    "sorted_a = sorted(word_frequency_a.items(), key=lambda kv: kv[1])\n",
    "print(sorted_a[-10:])"
   ]
  },
  {
   "cell_type": "code",
   "execution_count": 14,
   "metadata": {},
   "outputs": [
    {
     "name": "stdout",
     "output_type": "stream",
     "text": [
      "[('and', 78), ('Stella', 84), ('that', 84), ('a', 105), ('your', 117), ('I', 123), ('to', 130), ('it', 136), ('the', 157), ('you', 383)]\n"
     ]
    }
   ],
   "source": [
    "word_frequency_c = dict()\n",
    "for i in range(len(text_matrix)):\n",
    "    if len(text_matrix[i]) >= 2 and text_matrix[i][0][0] == \"%\" and text_matrix[i][1] == \"C\":\n",
    "        for word in text_matrix[i-1][1:-1]:\n",
    "            if word[0] != \"*\":\n",
    "                if word not in word_frequency_c:\n",
    "                    word_frequency_c[word] = 1\n",
    "                else:\n",
    "                    word_frequency_c[word] += 1\n",
    "sorted_c = sorted(word_frequency_c.items(), key=lambda kv: kv[1])\n",
    "print(sorted_c[-10:])"
   ]
  },
  {
   "cell_type": "markdown",
   "metadata": {},
   "source": [
    "- Plot dictionaries"
   ]
  },
  {
   "cell_type": "code",
   "execution_count": 15,
   "metadata": {},
   "outputs": [
    {
     "data": {
      "image/png": "[encoded data removed]",
      "text/plain": [
       "<Figure size 432x288 with 1 Axes>"
      ]
     },
     "metadata": {
      "needs_background": "light"
     },
     "output_type": "display_data"
    }
   ],
   "source": [
    "plt.bar(*zip(*sorted_t[-10:]), color = 'skyblue')\n",
    "plt.xlabel(\"words\")\n",
    "plt.ylabel(\"frequency\")\n",
    "plt.title(\"top 10 words in T\")\n",
    "plt.savefig(\"top_t_A7871007.png\")"
   ]
  },
  {
   "cell_type": "code",
   "execution_count": 16,
   "metadata": {},
   "outputs": [
    {
     "data": {
      "image/png": "[encoded data removed]",
      "text/plain": [
       "<Figure size 432x288 with 1 Axes>"
      ]
     },
     "metadata": {
      "needs_background": "light"
     },
     "output_type": "display_data"
    }
   ],
   "source": [
    "plt.bar(*zip(*sorted_a[-10:]), color = 'skyblue')\n",
    "plt.xlabel(\"words\")\n",
    "plt.ylabel(\"frequency\")\n",
    "plt.title(\"top 10 words in A\")\n",
    "plt.savefig(\"top_a_A7871007.png\")"
   ]
  },
  {
   "cell_type": "code",
   "execution_count": 17,
   "metadata": {},
   "outputs": [
    {
     "data": {
      "image/png": "[encoded data removed]",
      "text/plain": [
       "<Figure size 432x288 with 1 Axes>"
      ]
     },
     "metadata": {
      "needs_background": "light"
     },
     "output_type": "display_data"
    }
   ],
   "source": [
    "plt.bar(*zip(*sorted_c[-10:]), color = 'skyblue')\n",
    "plt.xlabel(\"words\")\n",
    "plt.ylabel(\"frequency\")\n",
    "plt.title(\"top 10 words in C\")\n",
    "plt.savefig(\"top_c_A7871007.png\")"
   ]
  },
  {
   "cell_type": "code",
   "execution_count": null,
   "metadata": {},
   "outputs": [],
   "source": []
  },
  {
   "cell_type": "code",
   "execution_count": null,
   "metadata": {},
   "outputs": [],
   "source": []
  },
  {
   "cell_type": "code",
   "execution_count": 18,
   "metadata": {},
   "outputs": [],
   "source": [
    "val_fa1 = {\"T\":t_dict[\"FA1\"],\"A\":a_dict[\"FA1\"],\"C\":c_dict[\"FA1\"]}\n",
    "val_chi = {\"T\":t_dict[\"CHI\"],\"A\":a_dict[\"CHI\"],\"C\":c_dict[\"CHI\"]}\n",
    "val_fc1 = {\"T\":t_dict[\"FC1\"],\"A\":a_dict[\"FC1\"],\"C\":c_dict[\"FC1\"]}\n",
    "val_ma1 = {\"T\":t_dict[\"MA1\"],\"A\":a_dict[\"MA1\"],\"C\":c_dict[\"MA1\"]}\n",
    "\n",
    "vis_dict = {\"FA1\":val_fa1, \"FC1\":val_fc1, \"CHI\":val_chi, \"MA1\":val_ma1}"
   ]
  },
  {
   "cell_type": "code",
   "execution_count": 19,
   "metadata": {},
   "outputs": [
    {
     "data": {
      "text/html": [
       "<div>\n",
       "<style scoped>\n",
       "    .dataframe tbody tr th:only-of-type {\n",
       "        vertical-align: middle;\n",
       "    }\n",
       "\n",
       "    .dataframe tbody tr th {\n",
       "        vertical-align: top;\n",
       "    }\n",
       "\n",
       "    .dataframe thead th {\n",
       "        text-align: right;\n",
       "    }\n",
       "</style>\n",
       "<table border=\"1\" class=\"dataframe\">\n",
       "  <thead>\n",
       "    <tr style=\"text-align: right;\">\n",
       "      <th></th>\n",
       "      <th>FA1</th>\n",
       "      <th>FC1</th>\n",
       "      <th>CHI</th>\n",
       "      <th>MA1</th>\n",
       "    </tr>\n",
       "  </thead>\n",
       "  <tbody>\n",
       "    <tr>\n",
       "      <th>T</th>\n",
       "      <td>3090</td>\n",
       "      <td>95</td>\n",
       "      <td>0</td>\n",
       "      <td>533</td>\n",
       "    </tr>\n",
       "    <tr>\n",
       "      <th>A</th>\n",
       "      <td>1987</td>\n",
       "      <td>2078</td>\n",
       "      <td>23</td>\n",
       "      <td>596</td>\n",
       "    </tr>\n",
       "    <tr>\n",
       "      <th>C</th>\n",
       "      <td>5044</td>\n",
       "      <td>19</td>\n",
       "      <td>0</td>\n",
       "      <td>898</td>\n",
       "    </tr>\n",
       "  </tbody>\n",
       "</table>\n",
       "</div>"
      ],
      "text/plain": [
       "    FA1   FC1  CHI  MA1\n",
       "T  3090    95    0  533\n",
       "A  1987  2078   23  596\n",
       "C  5044    19    0  898"
      ]
     },
     "execution_count": 19,
     "metadata": {},
     "output_type": "execute_result"
    }
   ],
   "source": [
    "df = pd.DataFrame(data = vis_dict)\n",
    "df"
   ]
  },
  {
   "cell_type": "code",
   "execution_count": null,
   "metadata": {},
   "outputs": [],
   "source": []
  },
  {
   "cell_type": "code",
   "execution_count": 20,
   "metadata": {},
   "outputs": [
    {
     "data": {
      "text/plain": [
       "[['FA1', 'T', 3090],\n",
       " ['FA1', 'A', 1987],\n",
       " ['FA1', 'C', 5044],\n",
       " ['FC1', 'T', 95],\n",
       " ['FC1', 'A', 2078],\n",
       " ['FC1', 'C', 19],\n",
       " ['CHI', 'T', 0],\n",
       " ['CHI', 'A', 23],\n",
       " ['CHI', 'C', 0],\n",
       " ['MA1', 'T', 533],\n",
       " ['MA1', 'A', 596],\n",
       " ['MA1', 'C', 898]]"
      ]
     },
     "execution_count": 20,
     "metadata": {},
     "output_type": "execute_result"
    }
   ],
   "source": [
    "vis_list = []\n",
    "for key in vis_dict.keys():\n",
    "    for key2 in vis_dict[key].keys():\n",
    "        vis_list.append([key, key2, vis_dict[key][key2]])\n",
    "vis_list"
   ]
  },
  {
   "cell_type": "code",
   "execution_count": 21,
   "metadata": {},
   "outputs": [
    {
     "data": {
      "text/html": [
       "<div>\n",
       "<style scoped>\n",
       "    .dataframe tbody tr th:only-of-type {\n",
       "        vertical-align: middle;\n",
       "    }\n",
       "\n",
       "    .dataframe tbody tr th {\n",
       "        vertical-align: top;\n",
       "    }\n",
       "\n",
       "    .dataframe thead th {\n",
       "        text-align: right;\n",
       "    }\n",
       "</style>\n",
       "<table border=\"1\" class=\"dataframe\">\n",
       "  <thead>\n",
       "    <tr style=\"text-align: right;\">\n",
       "      <th></th>\n",
       "      <th>participant</th>\n",
       "      <th>target</th>\n",
       "      <th>word_count</th>\n",
       "    </tr>\n",
       "  </thead>\n",
       "  <tbody>\n",
       "    <tr>\n",
       "      <th>0</th>\n",
       "      <td>FA1</td>\n",
       "      <td>T</td>\n",
       "      <td>3090</td>\n",
       "    </tr>\n",
       "    <tr>\n",
       "      <th>1</th>\n",
       "      <td>FA1</td>\n",
       "      <td>A</td>\n",
       "      <td>1987</td>\n",
       "    </tr>\n",
       "    <tr>\n",
       "      <th>2</th>\n",
       "      <td>FA1</td>\n",
       "      <td>C</td>\n",
       "      <td>5044</td>\n",
       "    </tr>\n",
       "    <tr>\n",
       "      <th>3</th>\n",
       "      <td>FC1</td>\n",
       "      <td>T</td>\n",
       "      <td>95</td>\n",
       "    </tr>\n",
       "    <tr>\n",
       "      <th>4</th>\n",
       "      <td>FC1</td>\n",
       "      <td>A</td>\n",
       "      <td>2078</td>\n",
       "    </tr>\n",
       "    <tr>\n",
       "      <th>5</th>\n",
       "      <td>FC1</td>\n",
       "      <td>C</td>\n",
       "      <td>19</td>\n",
       "    </tr>\n",
       "    <tr>\n",
       "      <th>6</th>\n",
       "      <td>CHI</td>\n",
       "      <td>T</td>\n",
       "      <td>0</td>\n",
       "    </tr>\n",
       "    <tr>\n",
       "      <th>7</th>\n",
       "      <td>CHI</td>\n",
       "      <td>A</td>\n",
       "      <td>23</td>\n",
       "    </tr>\n",
       "    <tr>\n",
       "      <th>8</th>\n",
       "      <td>CHI</td>\n",
       "      <td>C</td>\n",
       "      <td>0</td>\n",
       "    </tr>\n",
       "    <tr>\n",
       "      <th>9</th>\n",
       "      <td>MA1</td>\n",
       "      <td>T</td>\n",
       "      <td>533</td>\n",
       "    </tr>\n",
       "    <tr>\n",
       "      <th>10</th>\n",
       "      <td>MA1</td>\n",
       "      <td>A</td>\n",
       "      <td>596</td>\n",
       "    </tr>\n",
       "    <tr>\n",
       "      <th>11</th>\n",
       "      <td>MA1</td>\n",
       "      <td>C</td>\n",
       "      <td>898</td>\n",
       "    </tr>\n",
       "  </tbody>\n",
       "</table>\n",
       "</div>"
      ],
      "text/plain": [
       "   participant target  word_count\n",
       "0          FA1      T        3090\n",
       "1          FA1      A        1987\n",
       "2          FA1      C        5044\n",
       "3          FC1      T          95\n",
       "4          FC1      A        2078\n",
       "5          FC1      C          19\n",
       "6          CHI      T           0\n",
       "7          CHI      A          23\n",
       "8          CHI      C           0\n",
       "9          MA1      T         533\n",
       "10         MA1      A         596\n",
       "11         MA1      C         898"
      ]
     },
     "execution_count": 21,
     "metadata": {},
     "output_type": "execute_result"
    }
   ],
   "source": [
    "df = pd.DataFrame(data = vis_list, columns = [\"participant\", \"target\", \"word_count\"])\n",
    "df"
   ]
  },
  {
   "cell_type": "code",
   "execution_count": 23,
   "metadata": {},
   "outputs": [],
   "source": [
    "df.to_csv(\"word_count_A7871107.csv\")"
   ]
  },
  {
   "cell_type": "code",
   "execution_count": 23,
   "metadata": {},
   "outputs": [],
   "source": [
    "# # Prepare data\n",
    "# x_var = 'participant'\n",
    "# groupby_var = 'target'\n",
    "# df_agg = df.loc[:, [x_var, groupby_var]].groupby(groupby_var)\n",
    "\n",
    "# vals = [list(df.iloc[::3, :]['word_count']), list(df.iloc[1::3, :]['word_count']), list(df.iloc[2::3, :]['word_count'])]\n",
    "# print(vals)\n",
    "# # Draw\n",
    "# plt.figure(figsize=(16,9), dpi= 80)\n",
    "# colors = [plt.cm.Spectral(i/float(len(vals)-1)) for i in range(len(vals))]\n",
    "# n, bins, patches = plt.hist(vals, 4, stacked=True, density=False, color=colors[:len(vals)])\n",
    "\n",
    "# # Decoration\n",
    "# plt.legend({group:col for group, col in zip(np.unique(df[groupby_var]).tolist(), colors[:len(vals)])})\n",
    "# plt.title(f\"Stacked Histogram of ${x_var}$ colored by ${groupby_var}$\", fontsize=22)\n",
    "# plt.xlabel(x_var)\n",
    "# plt.ylabel(\"Frequency\")\n",
    "# plt.ylim(0, 10)\n",
    "# plt.xticks(ticks=bins, labels=np.unique(df[x_var]).tolist(), rotation=90, horizontalalignment='left')\n",
    "# plt.show()"
   ]
  },
  {
   "cell_type": "code",
   "execution_count": 22,
   "metadata": {},
   "outputs": [
    {
     "data": {
      "image/png": "[encoded data removed]",
      "text/plain": [
       "<Figure size 432x288 with 1 Axes>"
      ]
     },
     "metadata": {
      "needs_background": "light"
     },
     "output_type": "display_data"
    }
   ],
   "source": [
    "vals = [list(df.iloc[::3, :]['word_count']), list(df.iloc[1::3, :]['word_count']), list(df.iloc[2::3, :]['word_count'])]\n",
    "bars = np.add(vals[0], vals[1]).tolist()\n",
    "p1 = plt.bar(list(df['participant'].unique()), vals[0],color = \"skyblue\")\n",
    "p2 = plt.bar(list(df['participant'].unique()), vals[1], bottom = vals[0], color = \"yellowgreen\")\n",
    "p3 = plt.bar(list(df['participant'].unique()), vals[2], bottom = bars, color = \"lightcoral\")\n",
    "\n",
    "\n",
    "\n",
    "plt.ylabel('Word counts')\n",
    "plt.title('Word counts by participants and target')\n",
    "plt.legend((p1[0], p2[0], p3[0]), ('T', 'A', 'C'))\n",
    "\n",
    "plt.savefig(\"word_count_A7871107.png\")"
   ]
  }
 ],
 "metadata": {
  "kernelspec": {
   "display_name": "Python 3",
   "language": "python",
   "name": "python3"
  },
  "language_info": {
   "codemirror_mode": {
    "name": "ipython",
    "version": 3
   },
   "file_extension": ".py",
   "mimetype": "text/x-python",
   "name": "python",
   "nbconvert_exporter": "python",
   "pygments_lexer": "ipython3",
   "version": "3.7.6"
  }
 },
 "nbformat": 4,
 "nbformat_minor": 4
}
